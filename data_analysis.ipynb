{
 "cells": [
  {
   "cell_type": "markdown",
   "source": [
    "Step 1: Import all the data"
   ],
   "metadata": {
    "collapsed": false
   }
  },
  {
   "cell_type": "code",
   "execution_count": 40,
   "outputs": [],
   "source": [
    "import os\n",
    "\n",
    "files = os.listdir(\"times\")\n",
    "\n",
    "compilers = [\"gcc\", \"clang\"]\n",
    "optim_levels = [\"O0\", \"O1\", \"O2\", \"O3\", \"Ofast\", \"Os\", \"Oz\"]\n",
    "float_types = [\"double\", \"float\"]\n",
    "\n",
    "data = dict.fromkeys(optim_levels)\n",
    "\n",
    "for level in data:\n",
    "    data[level] = dict.fromkeys(float_types)\n",
    "\n",
    "    for float_type in float_types:\n",
    "        data[level][float_type] = dict.fromkeys(compilers)\n",
    "\n",
    "for file in files:\n",
    "    split_name = file.split(\"_\")\n",
    "    path = os.path.join(\"times\", file)\n",
    "\n",
    "    with open(path) as f:\n",
    "        data[split_name[2]][split_name[1]][split_name[0]] = int(f.read().strip())"
   ],
   "metadata": {
    "collapsed": false
   }
  },
  {
   "cell_type": "markdown",
   "source": [
    "Step 2: Extract interesting information"
   ],
   "metadata": {
    "collapsed": false
   }
  },
  {
   "cell_type": "code",
   "execution_count": 41,
   "outputs": [],
   "source": [
    "double_perf = {}\n",
    "\n",
    "for level in data:\n",
    "    double_perf[level] = {\n",
    "        \"gcc\": data[level][\"double\"][\"gcc\"],\n",
    "        \"clang\": data[level][\"double\"][\"clang\"],\n",
    "    }"
   ],
   "metadata": {
    "collapsed": false
   }
  },
  {
   "cell_type": "code",
   "execution_count": 42,
   "outputs": [],
   "source": [
    "float_perf = {}\n",
    "\n",
    "for level in data:\n",
    "    float_perf[level] = {\n",
    "        \"gcc\": data[level][\"float\"][\"gcc\"],\n",
    "        \"clang\": data[level][\"float\"][\"clang\"],\n",
    "    }"
   ],
   "metadata": {
    "collapsed": false
   }
  },
  {
   "cell_type": "code",
   "execution_count": 43,
   "outputs": [],
   "source": [
    "o3_perf = data[\"O3\"]\n",
    "o0_perf = data[\"O0\"]\n",
    "oz_perf = data[\"Oz\"]"
   ],
   "metadata": {
    "collapsed": false
   }
  }
 ],
 "metadata": {
  "kernelspec": {
   "display_name": "Python 3",
   "language": "python",
   "name": "python3"
  },
  "language_info": {
   "codemirror_mode": {
    "name": "ipython",
    "version": 2
   },
   "file_extension": ".py",
   "mimetype": "text/x-python",
   "name": "python",
   "nbconvert_exporter": "python",
   "pygments_lexer": "ipython2",
   "version": "2.7.6"
  }
 },
 "nbformat": 4,
 "nbformat_minor": 0
}
